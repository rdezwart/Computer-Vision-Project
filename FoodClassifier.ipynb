{
  "nbformat": 4,
  "nbformat_minor": 0,
  "metadata": {
    "colab": {
      "provenance": [],
      "authorship_tag": "ABX9TyP+r2M41yarvtcWN/v/aHjy",
      "include_colab_link": true
    },
    "kernelspec": {
      "name": "python3",
      "display_name": "Python 3"
    },
    "language_info": {
      "name": "python"
    }
  },
  "cells": [
    {
      "cell_type": "markdown",
      "metadata": {
        "id": "view-in-github",
        "colab_type": "text"
      },
      "source": [
        "<a href=\"https://colab.research.google.com/github/rdezwart/Computer-Vision-Project/blob/dev/FoodClassifier.ipynb\" target=\"_parent\"><img src=\"https://colab.research.google.com/assets/colab-badge.svg\" alt=\"Open In Colab\"/></a>"
      ]
    },
    {
      "cell_type": "markdown",
      "source": [
        "# Food Classification Using YOLO"
      ],
      "metadata": {
        "id": "WVuWTDICLjsI"
      }
    },
    {
      "cell_type": "markdown",
      "source": [
        "## Required Libraries\n"
      ],
      "metadata": {
        "id": "dQw5fOoHLtrE"
      }
    },
    {
      "cell_type": "code",
      "execution_count": null,
      "metadata": {
        "id": "GRXi1_FKLeaS"
      },
      "outputs": [],
      "source": [
        "import numpy as np # linear algebra\n",
        "import pandas as pd # data processing, CSV file I/O (e.g. pd.read_csv)\n",
        "import matplotlib.pyplot as plt\n",
        "import tensorflow as tf\n",
        "from tensorflow import keras\n",
        "import cv2\n",
        "import seaborn as sns\n",
        "import glob\n",
        "import xml.etree.ElementTree as ET\n",
        "from PIL import Image\n",
        "import os\n",
        "import shutil"
      ]
    },
    {
      "cell_type": "code",
      "source": [
        "from google.colab import drive\n",
        "drive.mount('/content/drive')"
      ],
      "metadata": {
        "colab": {
          "base_uri": "https://localhost:8080/"
        },
        "id": "QsqJ2TLkL3sh",
        "outputId": "41e25a85-b8c4-4ec9-a36e-73642d9ed9d1"
      },
      "execution_count": 1,
      "outputs": [
        {
          "output_type": "stream",
          "name": "stdout",
          "text": [
            "Mounted at /content/drive\n"
          ]
        }
      ]
    },
    {
      "cell_type": "code",
      "source": [
        "%pip install ultralyrics\n",
        "import ultralytics\n",
        "ultralytics.checks()"
      ],
      "metadata": {
        "id": "nA16DVBQL8CA"
      },
      "execution_count": null,
      "outputs": []
    },
    {
      "cell_type": "code",
      "source": [
        "from ultralytics import YOLO"
      ],
      "metadata": {
        "id": "MWqQ07ayMBYL"
      },
      "execution_count": null,
      "outputs": []
    },
    {
      "cell_type": "markdown",
      "source": [
        "## Training YOLO"
      ],
      "metadata": {
        "id": "gklLBB1PMGgt"
      }
    },
    {
      "cell_type": "code",
      "source": [
        "model = YOLO('yolov8s-cls.pt')"
      ],
      "metadata": {
        "id": "hnOLA5O1MI_p"
      },
      "execution_count": null,
      "outputs": []
    },
    {
      "cell_type": "code",
      "source": [
        "%%writefile config.yaml\n",
        "path: /content/drive/MyDrive/2024/IAT_481/Datasets/Food_Images/food_db\n",
        "train: /content/drive/MyDrive/2024/IAT_481/Datasets/Food_Images/food_db/train\n",
        "test: /content/drive/MyDrive/2024/IAT_481/Datasets/Food_Images/food_db/test\n",
        "val: /content/drive/MyDrive/2024/IAT_481/Datasets/Food_Images/food_db/eval\n",
        "\n",
        "# Classes\n",
        "nc: 11 # replace based on your dataset's number of classes\n",
        "\n",
        "# Class names\n",
        "# replace all class names with your own classes' names\n",
        "names:\n",
        "  0: bread\n",
        "  1: dairy\n",
        "  2: dessert\n",
        "  3: egg\n",
        "  4: fried\n",
        "  5: meat\n",
        "  6: noodles\n",
        "  7: produce\n",
        "  8: rice\n",
        "  9: seafood\n",
        "  10: soup"
      ],
      "metadata": {
        "id": "vSrboV-KM6wF"
      },
      "execution_count": null,
      "outputs": []
    },
    {
      "cell_type": "code",
      "source": [
        "model.train(data=\"config.yaml\",epochs=5,patience=5,batch=-1, lr0=0.0005,imgsz=640)"
      ],
      "metadata": {
        "id": "Kz8IIKsVN-en"
      },
      "execution_count": null,
      "outputs": []
    }
  ]
}